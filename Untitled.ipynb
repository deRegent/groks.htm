{
 "cells": [
  {
   "cell_type": "markdown",
   "metadata": {},
   "source": [
    "Temporal Memory Algorithm s?\n",
    "\n",
    "SDK Encoding\n",
    "\n",
    "capacity = #bits\n",
    "\n",
    "population = #bits on, equivalent to Hamming weight\n",
    "\n",
    "sparsity == 2%\n",
    "\n",
    "2048 bits is smallest considered, goes up to 65000 bits\n",
    "keep sparsity at 4%\n",
    "\n",
    "Overlap set: # of SDR's with same n, same w, desired overlap\n",
    "\n",
    "n = 2048, w = 40, subsampling = 20 is typical\n",
    "\n",
    "Encoding algorithm principles:\n",
    "1) Similar data should give SDRs with a lot of overlap\n",
    "2) functional - same input produces same SDR\n",
    "3) constant dimensionality\n",
    "4) sparsity similar across all SDRs, tune sparsity to deal with noise\n",
    "\n",
    "\"Encoding Data for HTML Systems\", Scott Purdy\n",
    "\n",
    "HTM Forums\n",
    "\n",
    "Spacial pooler:\n",
    "1) fixed output pooling\n",
    "2) maintain overlap properties of input data"
   ]
  }
 ],
 "metadata": {
  "kernelspec": {
   "display_name": "Python 3",
   "language": "python",
   "name": "python3"
  },
  "language_info": {
   "codemirror_mode": {
    "name": "ipython",
    "version": 3
   },
   "file_extension": ".py",
   "mimetype": "text/x-python",
   "name": "python",
   "nbconvert_exporter": "python",
   "pygments_lexer": "ipython3",
   "version": "3.6.5"
  }
 },
 "nbformat": 4,
 "nbformat_minor": 2
}
